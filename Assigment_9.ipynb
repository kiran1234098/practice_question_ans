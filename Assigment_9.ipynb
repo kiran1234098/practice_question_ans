{
  "nbformat": 4,
  "nbformat_minor": 0,
  "metadata": {
    "colab": {
      "provenance": []
    },
    "kernelspec": {
      "name": "python3",
      "display_name": "Python 3"
    },
    "language_info": {
      "name": "python"
    }
  },
  "cells": [
    {
      "cell_type": "markdown",
      "source": [
        "    Question 1. To what does a relative path refer?\n",
        "\n",
        "    Answer:  \n",
        "\n",
        "      A relative path refers to the location of a file or directory relative to the current working directory or another reference point. Instead of specifying the complete or absolute path starting from the root directory, a relative path indicates the path relative to the current location or another specified directory.\n",
        "\n",
        "      For example, if the current working directory is /home/user/, the relative path documents/file.txt refers to a file named file.txt located in the documents directory within the current working directory.\n",
        "\n",
        "      Relative paths are typically shorter and more concise compared to absolute paths as they omit the unnecessary portions of the file system hierarchy. They are useful when you want to refer to files or directories within the same project or in relation to the current working directory.\n",
        "\n",
        "      It's important to note that the interpretation of relative paths depends on the current working directory or the reference point from which they are evaluated. Changing the working directory can alter the resolution of relative paths."
      ],
      "metadata": {
        "id": "UHUD3z6CllwJ"
      }
    },
    {
      "cell_type": "markdown",
      "source": [
        "Question 2: What does an absolute path start with your operating system?\n",
        "\n",
        "Answer:\n",
        "\n",
        "\n",
        "        In most operating systems, an absolute path starts with the root directory. The root directory is the highest-level directory in the file system hierarchy and serves as the starting point for specifying the complete path to a file or directory.\n",
        "\n",
        "        Here are the conventions for absolute paths in common operating systems:\n",
        "\n",
        "        Windows: An absolute path starts with a drive letter (e.g., C:) followed by a colon (:) and a backslash (\\). For example, C:\\path\\to\\file.txt refers to a file named file.txt located in the to directory, which is inside the path directory on the C: drive.\n",
        "        Unix-like systems (e.g., Linux, macOS): An absolute path starts with a forward slash (/). For example, /home/user/file.txt refers to a file named file.txt located in the user directory, which is inside the home directory at the root of the file system.\n",
        "        In both cases, the absolute path provides a complete and unambiguous description of the file or directory's location, starting from the root directory and including all the intermediate directories.\n",
        "\n",
        "        It's worth noting that the format of absolute paths can vary slightly depending on the operating system, but the concept remains the same: an absolute path starts from the root directory and specifies the full path to a file or directory."
      ],
      "metadata": {
        "id": "JSX4XqIbmDUx"
      }
    },
    {
      "cell_type": "markdown",
      "source": [
        "Question 3. What do the functions os.getcwd() and os.chdir() do?\n",
        "\n",
        "Answer:\n",
        "\n",
        "      The functions os.getcwd() and os.chdir() are part of the os module in Python and are used for working with the current working directory (CWD).\n",
        "\n",
        "      os.getcwd():\n",
        "\n",
        "      The os.getcwd() function returns a string representing the current working directory (CWD) of the Python script or the current process.\n",
        "      It does not take any arguments and directly returns the absolute path of the current working directory.\n",
        "      Example:\n",
        "      import os\n",
        "\n",
        "      current_dir = os.getcwd()\n",
        "      print(current_dir)\n",
        "      os.chdir(path):\n",
        "\n",
        "      The os.chdir() function is used to change the current working directory to the specified path.\n",
        "      It takes a single argument path, which can be a relative or absolute path to the desired directory.\n",
        "      After calling os.chdir(path), the current working directory will be updated to the specified path.\n",
        "      Example:\n",
        "     \n",
        "      import os\n",
        "\n",
        "      os.chdir('/path/to/new/directory')  # Change the working directory to '/path/to/new/directory'\n",
        "      These functions are useful for navigating and manipulating the file system within a Python script. os.getcwd() allows you to determine the current working directory, and os.chdir() enables you to change the working directory to a different location for subsequent file operations."
      ],
      "metadata": {
        "id": "_EpqwLvNnF4s"
      }
    },
    {
      "cell_type": "markdown",
      "source": [
        "Question 4: What are the . and .. folders?\n",
        "    Answer:\n",
        "\n",
        "    In most file systems, the . (dot) and .. (dot-dot) folders have special meanings.\n",
        "\n",
        "    . (dot):\n",
        "\n",
        "    The . folder represents the current directory or the current location in the file system hierarchy.\n",
        "    It is used to refer to the current directory in file system paths.\n",
        "    For example, if you are in the directory /home/user/, the path ./file.txt refers to a file named file.txt in the current directory (/home/user/).\n",
        "    .. (dot-dot):\n",
        "\n",
        "    The .. folder represents the parent directory of the current directory.\n",
        "    It is used to refer to the parent directory in file system paths.\n",
        "    For example, if you are in the directory /home/user/folder/, the path ../file.txt refers to a file named file.txt in the parent directory (/home/user/).\n",
        "    These special folders are useful for navigating and referencing directories in a relative manner within a file system. They allow you to specify paths relative to the current directory or move up in the directory hierarchy.\n",
        "\n",
        "    It's important to note that . and .. are relative references and their interpretation depends on the context of the file system."
      ],
      "metadata": {
        "id": "KsTx182bo7AI"
      }
    },
    {
      "cell_type": "markdown",
      "source": [
        "Question 5: In C:\\bacon\\eggs\\spam.txt, which part is the dir name, and which \n",
        "            part is the base name?\n",
        "\n",
        "      Answer:\n",
        "      In the file path C:\\bacon\\eggs\\spam.txt, the directory name and the base name can be identified as follows:\n",
        "\n",
        "      Directory Name: C:\\bacon\\eggs\n",
        "\n",
        "      The directory name refers to the path of the directory containing the file.\n",
        "      In this case, C:\\bacon\\eggs is the directory name, representing the path to the directory that contains the file spam.txt.\n",
        "      It includes all the components of the path before the last directory or file name.\n",
        "      Base Name: spam.txt\n",
        "\n",
        "      The base name refers to the name of the file itself, without the directory path.\n",
        "      In this case, spam.txt is the base name, representing the name of the file.\n",
        "      It includes the last component of the path, which is the file name itself.\n",
        "      So, in summary, the directory name is C:\\bacon\\eggs and the base name is spam.txt in the given file path C:\\bacon\\eggs\\spam.txt."
      ],
      "metadata": {
        "id": "JLLPUzDSppIX"
      }
    },
    {
      "cell_type": "markdown",
      "source": [
        "Question 6. What are the three “mode” arguments that can be passed to the open () function?\n",
        "\n",
        "Answer:\n",
        "\n",
        "      The open() function in Python accepts various mode arguments that determine how a file should be opened. The three commonly used mode arguments are:\n",
        "\n",
        "      Read Mode ('r'):\n",
        "\n",
        "      The read mode is used to open a file for reading.\n",
        "      The file must exist, otherwise, an error will occur.\n",
        "      This is the default mode when no mode argument is specified.\n",
        "      Example: open('file.txt', 'r')\n",
        "      Write Mode ('w'):\n",
        "\n",
        "      The write mode is used to open a file for writing.\n",
        "      If the file already exists, its contents will be truncated (emptied).\n",
        "      If the file doesn't exist, a new file will be created.\n",
        "      Example: open('file.txt', 'w')\n",
        "      Append Mode ('a'):\n",
        "\n",
        "      The append mode is used to open a file for appending data.\n",
        "      If the file already exists, the new data will be added to the end of the file.\n",
        "      If the file doesn't exist, a new file will be created.\n",
        "      Example: open('file.txt', 'a')\n",
        "      It's worth noting that there are additional modes available, such as binary modes ('rb', 'wb', 'ab') for handling binary files, and modes that allow simultaneous reading and writing ('r+', 'w+', 'a+'). However, the three modes mentioned above are the most commonly used ones."
      ],
      "metadata": {
        "id": "gQs5fvy6qYcL"
      }
    },
    {
      "cell_type": "markdown",
      "source": [
        "Question 7: What happens if an existing file is opened in write mode?\n",
        "Answer:\n",
        "\n",
        "\n",
        "        If an existing file is opened in write mode ('w') using the open() function in Python, the following will happen:\n",
        "\n",
        "        If the file exists:\n",
        "\n",
        "        The existing file will be truncated, meaning all its contents will be deleted and the file size will be set to zero.\n",
        "        The file will be opened at the beginning, ready for writing new content.\n",
        "        Any previous data in the file will be lost.\n",
        "        If the file does not exist:\n",
        "\n",
        "        A new file with the specified name will be created.\n",
        "        The file will be opened for writing, and you can start writing content into it.\n",
        "        In both cases, opening a file in write mode will result in the file being overwritten or a new file being created. It's important to exercise caution when using write mode to avoid unintended loss of data.\n",
        "\n",
        "        If you want to append data to an existing file without truncating its contents, you can use the append mode ('a') by passing 'a' as the mode argument to the open() function."
      ],
      "metadata": {
        "id": "ijl4lm_arg-N"
      }
    },
    {
      "cell_type": "markdown",
      "source": [
        "Question 8:How do you tell the difference between read() and readlines()?\n",
        "Answer:\n",
        "\n",
        "        The read() and readlines() methods in Python are used to read data from a file, but they differ in how they handle and return the data:\n",
        "\n",
        "        read() method:\n",
        "\n",
        "        The read() method reads the entire contents of a file as a single string or bytes object, depending on the file mode.\n",
        "        If no argument is provided, it will read the entire file.\n",
        "        It reads from the current position in the file and advances the file pointer to the end.\n",
        "        Example usage:\n",
        "        python\n",
        "        Copy code\n",
        "        with open('file.txt', 'r') as file:\n",
        "            content = file.read()\n",
        "        readlines() method:\n",
        "\n",
        "        The readlines() method reads all lines from a file and returns them as a list of strings, where each string represents a line.\n",
        "        It reads from the current position in the file and advances the file pointer to the end."
      ],
      "metadata": {
        "id": "jUp-pn-isC83"
      }
    },
    {
      "cell_type": "markdown",
      "source": [
        "Question 9: What data structure does a shelf value resemble?\n",
        "Answer:\n",
        "\n",
        "\n",
        "      In Python, a shelf value, as obtained from the shelve module, resembles a dictionary-like data structure.\n",
        "\n",
        "      The shelve module in Python provides a simple interface for persistent storage of Python objects. It uses a dictionary-like API to store and retrieve objects using keys.\n",
        "\n",
        "      Some characteristics of a shelf value include:\n",
        "\n",
        "      It allows you to store and retrieve Python objects using keys, similar to how you interact with a dictionary.\n",
        "      You can assign values to keys and retrieve values associated with specific keys.\n",
        "      The keys and values can be of various data types, including strings, integers, lists, or even custom objects.\n",
        "      The shelf data structure provides persistence, meaning the data is stored persistently on disk and can be accessed across multiple program runs."
      ],
      "metadata": {
        "id": "D0ITl3EPtM_i"
      }
    }
  ]
}