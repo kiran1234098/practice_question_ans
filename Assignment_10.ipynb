{
  "nbformat": 4,
  "nbformat_minor": 0,
  "metadata": {
    "colab": {
      "provenance": [],
      "toc_visible": true
    },
    "kernelspec": {
      "name": "python3",
      "display_name": "Python 3"
    },
    "language_info": {
      "name": "python"
    }
  },
  "cells": [
    {
      "cell_type": "markdown",
      "source": [
        "Q.1: How do you distinguish between shutil.copy() and shutil.copytree()?\n",
        "\n",
        "answer:\n",
        "      shutil.copy() and shutil.copytree() are both functions provided by the shutil module in Python for file and directory operations. Here's how you can distinguish between the two:\n",
        "\n",
        "      shutil.copy(src, dst):\n",
        "\n",
        "      This function is used to copy a single file from the source (src) to the destination (dst) location.\n",
        "      The source (src) must be the complete path and filename of the file you want to copy.\n",
        "      The destination (dst) can be either the path of the directory where you want to place the copied file or the complete path and filename of the new file.\n",
        "      If the destination (dst) is a directory path, the original filename will be used for the copied file.\n",
        "      If the destination (dst) is a complete path and filename, the file will be copied with the provided name.\n",
        "      If the destination file already exists, it will be overwritten.\n",
        "      Example: shutil.copy('/path/to/source/file.txt', '/path/to/destination/file.txt')\n",
        "      shutil.copytree(src, dst):\n",
        "\n",
        "      This function is used to copy an entire directory tree (including all subdirectories and files) from the source (src) to the destination (dst) location.\n",
        "      The source (src) must be the complete path of the source directory you want to copy.\n",
        "      The destination (dst) must be the path of the destination directory where you want to place the copied directory tree.\n",
        "      If the destination directory already exists, an exception will be raised.\n",
        "      If you want to copy the directory tree into a new directory that doesn't exist, the destination directory will be created.\n",
        "      Example: shutil.copytree('/path/to/source/directory', '/path/to/destination/directory')\n",
        "      In summary, shutil.copy() is used for copying individual files, while shutil.copytree() is used for recursively copying entire directory trees.\n"
      ],
      "metadata": {
        "id": "_focr9gnhufh"
      }
    },
    {
      "cell_type": "markdown",
      "source": [
        "Question 2: What function is used to rename files?\n",
        "\n",
        "Answer:\n",
        "\n",
        "\n",
        "      The shutil.move() function is commonly used to rename files in Python. Although its primary purpose is to move files or directories, it can also be used to rename files by providing the new destination path and filename.\n",
        "\n",
        "      Here's an example of how you can use shutil.move() to rename a file:\n",
        "\n",
        "      import shutil\n",
        "      shutil.move('/path/to/old_file.txt', '/path/to/new_file.txt')\n",
        "\n",
        "\n",
        "      In the example above, the file located at /path/to/old_file.txt will be renamed to new_file.txt and moved to the specified destination. Note that if the destination file already exists, it will be overwritten by the renamed file.\n",
        "\n",
        "      It's important to mention that shutil.move() can also be used to move files or directories to different locations. If the source and destination paths are within the same directory, the function effectively renames the file by keeping it in the same location but changing its name."
      ],
      "metadata": {
        "id": "cnXzWeEbf9ny"
      }
    },
    {
      "cell_type": "markdown",
      "source": [
        "Question 3: What is the difference between the delete functions in the  \n",
        "            send2trash and shutil modules?\n",
        "\n",
        "Answer:\n",
        "\n",
        "      The send2trash and shutil modules in Python provide different ways to delete files or directories. Here are the differences between the delete functions in these modules:\n",
        "\n",
        "      send2trash:\n",
        "\n",
        "      The send2trash module is a third-party library that sends files or directories to the operating system's trash or recycle bin, rather than permanently deleting them.\n",
        "      The send2trash.send2trash() function is used to delete a file or directory by moving it to the trash/recycle bin.\n",
        "      It is a safer alternative to os.remove() or os.unlink() as it provides a way to recover deleted files from the trash bin if needed.\n",
        "      Example: send2trash.send2trash('/path/to/file.txt')\n",
        "      \n",
        "      \n",
        "      shutil:\n",
        "\n",
        "      The shutil module is a built-in Python module that provides various file and directory operations, including deletion.\n",
        "      The shutil.rmtree() function is used to delete an entire directory tree (including all subdirectories and files) permanently.\n",
        "      It recursively deletes all files and directories under the specified directory path.\n",
        "      This function does not move the deleted items to the trash or recycle bin; they are permanently removed.\n",
        "      Example: shutil.rmtree('/path/to/directory')\n",
        "      In summary, the main difference is that send2trash sends files or directories to the trash or recycle bin, allowing for potential recovery, while shutil.rmtree() permanently deletes the specified directory tree without sending it to the trash bin."
      ],
      "metadata": {
        "id": "6pR-M1sLgbvm"
      }
    },
    {
      "cell_type": "markdown",
      "source": [
        "Question 4:   ZipFile objects have a close() method just like File objects’ \n",
        "              close() method. What ZipFile method is\n",
        "              equivalent to File objects’ open() method?\n",
        "\n",
        "Answer:\n",
        "\n",
        "        The equivalent method in the ZipFile class of the zipfile module in Python, which is similar to the open() method for file objects, is the ZipFile() constructor method.\n",
        "\n",
        "        The ZipFile() method is used to create a ZipFile object that represents a ZIP archive. It takes the path to the ZIP file as its parameter and returns a ZipFile object that can be used to read, write, or manipulate the contents of the ZIP file.\n",
        "\n",
        "        Here's an example of how to use the ZipFile() method to open a ZIP file:\n",
        "\n",
        "\n",
        "        import zipfile\n",
        "\n",
        "\n",
        "        zip_obj = zipfile.ZipFile('/path/to/archive.zip', 'r')\n",
        "\n",
        "\n",
        "        zip_obj.close()\n",
        "        In the example above, the ZipFile() method is used to create a ZipFile object named zip_obj that represents the ZIP file located at /path/to/archive.zip. You can then perform various operations on the zip_obj to read or manipulate the contents of the ZIP file. Finally, the close() method is called on the zip_obj to close the ZIP file."
      ],
      "metadata": {
        "id": "QzBxPqrAh5gC"
      }
    },
    {
      "cell_type": "markdown",
      "source": [
        "Question 5: Create a programme that searches a folder tree for files with a \n",
        "            certain file extension (such as .pdf\n",
        "            or.jpg). Copy these files from whatever location they are in to a new folder."
      ],
      "metadata": {
        "id": "6HtPrZi6kSoy"
      }
    },
    {
      "cell_type": "code",
      "source": [
        "import os\n",
        "import shutil\n",
        "\n",
        "def copy_files_by_extension(source_folder, destination_folder, file_extension):\n",
        "    # Create the destination folder if it doesn't exist\n",
        "    if not os.path.exists(destination_folder):\n",
        "        os.makedirs(destination_folder)\n",
        "\n",
        "    # Walk through the source folder tree\n",
        "    for root, _, files in os.walk(source_folder):\n",
        "        for file in files:\n",
        "            if file.endswith(file_extension):\n",
        "                source_path = os.path.join(root, file)\n",
        "                destination_path = os.path.join(destination_folder, file)\n",
        "                shutil.copy2(source_path, destination_path)\n",
        "                print(f\"Copied: {source_path} -> {destination_path}\")\n",
        "\n",
        "# Example usage\n",
        "source_folder = '/path/to/source/folder'\n",
        "destination_folder = '/path/to/destination/folder'\n",
        "file_extension = '.pdf'  # Specify the file extension you want to search for\n",
        "\n",
        "copy_files_by_extension(source_folder, destination_folder, file_extension)\n"
      ],
      "metadata": {
        "id": "ESWQqXf5kkfm"
      },
      "execution_count": 2,
      "outputs": []
    }
  ]
}